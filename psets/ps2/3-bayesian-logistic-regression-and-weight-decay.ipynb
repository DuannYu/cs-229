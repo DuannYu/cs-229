{
 "cells": [
  {
   "cell_type": "markdown",
   "metadata": {},
   "source": [
    "# CS229: Problem Set 2\n",
    "\n",
    "## 3. Bayesian Logistic Regression and weight decay"
   ]
  },
  {
   "cell_type": "markdown",
   "metadata": {},
   "source": [
    "Suppose that $||\\theta_{MAP}||^2>||\\theta_{MLE}||^2$, we can get $p(\\theta_{MAP})<p(\\theta_{MLE})$\n",
    "\n",
    "Then\n",
    "$$\n",
    "\\begin{aligned}\n",
    "p(\\theta_{MAP})\\prod_{i=1}^m{p(y^{(i)}|x^{(i)};\\theta_{MAP})}&<p(\\theta_{MLE})\\prod_{i=1}^m{p(y^{(i)}|x^{(i)};\\theta_{MAP})} \\\\\n",
    "&<p(\\theta_{MLE})\\prod_{i=1}^m{p(y^{(i)}|x^{(i)};\\theta_{MLE})}\n",
    "\\end{aligned}\n",
    "$$\n",
    "This is true because for any $\\theta$, there is\n",
    "$$\n",
    "\\prod_{i=1}^m{p(y^{(i)}|x^{(i)};\\theta)} < \\prod_{i=1}^m{p(y^{(i)}|x^{(i)};\\theta_{MLE})}\n",
    "$$\n",
    "\n",
    "However, it contradicts the definition of $\\theta_{MAP}$.\n",
    "\n",
    "Therefore, \n",
    "$$||\\theta_{MAP}||^2 \\le ||\\theta_{MLE}||^2$$"
   ]
  }
 ],
 "metadata": {
  "kernelspec": {
   "display_name": "Python 3",
   "language": "python",
   "name": "python3"
  },
  "language_info": {
   "codemirror_mode": {
    "name": "ipython",
    "version": 3
   },
   "file_extension": ".py",
   "mimetype": "text/x-python",
   "name": "python",
   "nbconvert_exporter": "python",
   "pygments_lexer": "ipython3",
   "version": "3.7.3"
  }
 },
 "nbformat": 4,
 "nbformat_minor": 2
}
