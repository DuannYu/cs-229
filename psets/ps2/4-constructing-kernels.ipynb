{
 "cells": [
  {
   "cell_type": "markdown",
   "metadata": {},
   "source": [
    "# CS229: Problem Set 2\n",
    "\n",
    "## 4. Constructing Kernels"
   ]
  },
  {
   "cell_type": "markdown",
   "metadata": {},
   "source": [
    "## Question 4. (a)\n",
    "**Yes**\n",
    "$$u^TKu=u^TK_1u+u^TK_2u$$\n",
    "Since $u^TK_1u \\ge 0$ and $u^TK_2u \\ge 0$, there is $u^TKu \\ge 0$, $K$ is a Mercer kernel."
   ]
  },
  {
   "cell_type": "markdown",
   "metadata": {},
   "source": [
    "## Question 4. (b)\n",
    "**Maybe**\n",
    "$$u^TKu=u^TK_1u-u^TK_2u$$\n",
    "Since $u^TK_1u \\ge 0$ and $u^TK_2u \\ge 0$, we can't promise $u^TKu \\ge 0$, so $K$ is not a Mercer kernel."
   ]
  },
  {
   "cell_type": "markdown",
   "metadata": {},
   "source": [
    "## Question 4. (c)\n",
    "**Yes**\n",
    "$$u^TKu=u^TaK_1u$$\n",
    "Since $a \\in \\mathbb{R}^+$, $K$ is not a Mercer kernel."
   ]
  },
  {
   "cell_type": "markdown",
   "metadata": {},
   "source": [
    "## Question 4. (d)\n",
    "**No**\n",
    "\n",
    "Same as (c)"
   ]
  },
  {
   "cell_type": "markdown",
   "metadata": {},
   "source": [
    "## Question 4. (e)\n",
    "**Yes**\n",
    "\n",
    "$$\n",
    "\\begin{aligned}\n",
    "u^TKu &= u^TK_1K_2u \\\\\n",
    "&= u^TK_1[uu^T][uu^T]^{-1}K_2u \\\\\n",
    "&= [u^TK_1u]u^T[uu^T]^{-1}K_2u\n",
    "\\end{aligned}\n",
    "$$\n",
    "\n",
    "By using $A^{-1}=[A^TA]^{-1}A^T$, we replace $[uu^T]^{-1}$ as \n",
    "$$\n",
    "[uu^T]^{-1}=[[uu^T]^T[uu^T]]^{-1}[uu^T]^T\n",
    "$$\n",
    "Because $uu^T$ is symmetric, there is \n",
    "$$[uu^T]^{-1}=[[uu^T]^2]^{-1}uu^T$$\n",
    "\n",
    "Now, we can rewrite\n",
    "$$\n",
    "\\begin{aligned}\n",
    "u^TKu &= [u^TK_1u]u^T[uu^T]^{-1}K_2u \\\\ \n",
    "&= [u^TK_1u]\\bullet u^T[[uu^T]^2]^{-1}u \\bullet u^TK_2u\n",
    "\\end{aligned}\n",
    "$$\n",
    "\n",
    "To prove $K$ is a Mercer kernel, we only need prove $[[uu^T]^2]^{-1}$ is semi-definite positive.\n",
    "\n",
    "Suppose $A=uu^T=Q\\Lambda Q^{-1}$, squaring this result yields\n",
    "$$A^2=Q\\Lambda^2 Q^{-1}$$\n",
    "Where $\\Lambda$ are eigenvalues of $A$. Because $\\Lambda^2$ are all positive, $A^2$ is semi-definite and $[A^2]^{-1}$ is semi-definite positive.\n",
    "\n",
    "Finally, we gan get\n",
    "$$\n",
    "u^TKu = [u^TK_1u]\\bullet u^T[A^2]^{-1}u \\bullet u^TK_2u \\ge 0\n",
    "$$"
   ]
  },
  {
   "cell_type": "markdown",
   "metadata": {},
   "source": [
    "## Question 4. (f)\n",
    "**Yes**\n",
    "\n",
    "$$\n",
    "\\begin{aligned}\n",
    "u^TKu &= \\sum_{i,j}^m{u_iu_jf(x^{(i)})f(x^{(j)})} \\\\\n",
    "&= [u_1f(x^{(1)}) + u_2f(x^{(2)}) + ... + u_mf(x^{(m)})]^2 \\\\ &\\ge 0\n",
    "\\end{aligned}\n",
    "$$"
   ]
  },
  {
   "cell_type": "markdown",
   "metadata": {},
   "source": [
    "## Question 4. (g)\n",
    "**Yes**\n",
    "\n",
    "$K_3$ is is independant of the chosen map $\\phi$."
   ]
  }
 ],
 "metadata": {
  "kernelspec": {
   "display_name": "Python 3.6",
   "language": "python",
   "name": "py36"
  },
  "language_info": {
   "codemirror_mode": {
    "name": "ipython",
    "version": 3
   },
   "file_extension": ".py",
   "mimetype": "text/x-python",
   "name": "python",
   "nbconvert_exporter": "python",
   "pygments_lexer": "ipython3",
   "version": "3.6.9"
  }
 },
 "nbformat": 4,
 "nbformat_minor": 2
}
