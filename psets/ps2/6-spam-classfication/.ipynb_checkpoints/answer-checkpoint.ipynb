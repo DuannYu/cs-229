{
 "cells": [
  {
   "cell_type": "markdown",
   "metadata": {},
   "source": [
    "# CS229: Problem Set 2\n",
    "\n",
    "## 6. Spam Classification"
   ]
  },
  {
   "cell_type": "markdown",
   "metadata": {},
   "source": [
    "## Question 6. (a)\n",
    "By using multinomial event model, to maximize its maxmimum likelihood with Laplace smoothing, there is \n",
    "\n",
    "\\begin{aligned}\n",
    "p(x_j=k|y=1) =\\phi_{k|y=1} &=\\frac{\\sum_{i=1}^n\\sum_{j=1}^{d_i}{1{\\{x_j^{(i)}=k \\land y^{(i)}=1\\}+1}}}{\\sum_{i=1}^n{1\\{y^{(i)}=1\\}d_i+|V|}} \\\\\n",
    "p(x_j=k|y=0)=\\phi_{k|y=0} &=\\frac{\\sum_{i=1}^n\\sum_{j=1}^{d_i}{1{\\{x_j^{(i)}=k \\land y^{(i)}=0\\}+1}}}{\\sum_{i=1}^n{1\\{y^{(i)}=0\\}d_i+|V|}} \\\\\n",
    "p(y)=\\phi_{y} &= \\frac{\\sum_{i=1}^n1\\{y^{(i)}=1\\}}{n}\n",
    "\\end{aligned}\n",
    "\n",
    "For prediction\n",
    "\n",
    "\\begin{aligned}\n",
    "p(y=1|x)&=\\frac{p(x|y=1)p(y=1)}{p(x)} \\\\\n",
    "&=\\frac{p(x|y=1)p(y=1)}{p(x|y=1)p(y=1) + p(x|y=0)p(y=0)} \\\\\n",
    "&=\\frac{1}{1 + \\frac{p(x|y=0)p(y=0)}{p(x|y=1)p(y=1)}} \\\\\n",
    "\\end{aligned}\n",
    "\n",
    "For this ratio term, we can caculate as follow\n",
    "\n",
    "\\begin{aligned}\n",
    "\\frac{p(x|y=0)p(y=0)}{p(x|y=1)p(y=1)} = \\text{exp}\\{\\log{p(x|y=0)} + \\log{p(y=0)} - \\log{p(x|y=1)} - \\log{p(y=1)}\\}\n",
    "\\end{aligned}\n",
    "\n",
    "for example \n",
    "\\begin{aligned}\n",
    "\\log{p(x|y=0)} &= \\log{\\prod_j^d{p(x_j|y=0)}} \\\\\n",
    "&= \\sum_j^d{\\log{p(x_j|y=0)}} \\\\\n",
    "&= \\sum_j^d{\\log{1\\{\\phi_{j|y=0}\\odot x \\neq 0\\}}}\n",
    "\\end{aligned}\n",
    "\n",
    "$\\odot$ is Hadamard product\n"
   ]
  },
  {
   "cell_type": "code",
   "execution_count": 1,
   "metadata": {},
   "outputs": [
    {
     "name": "stdout",
     "output_type": "stream",
     "text": [
      "Error: 0.0163\n"
     ]
    },
    {
     "data": {
      "text/plain": [
       "0.01625"
      ]
     },
     "execution_count": 1,
     "metadata": {},
     "output_type": "execute_result"
    }
   ],
   "source": [
    "import numpy as np\n",
    "from nb import *\n",
    "import matplotlib.pyplot as plt\n",
    "# (a)\n",
    "trainMatrix, tokenlist, trainCategory = readMatrix('spam_data/MATRIX.TRAIN')\n",
    "testMatrix, tokenlist, testCategory = readMatrix('spam_data/MATRIX.TEST')\n",
    "state = nb_train(trainMatrix, trainCategory)\n",
    "output = nb_test(testMatrix, state)\n",
    "evaluate(output, testCategory)"
   ]
  },
  {
   "cell_type": "markdown",
   "metadata": {},
   "source": [
    "## Question 6. (b)"
   ]
  },
  {
   "cell_type": "code",
   "execution_count": 2,
   "metadata": {},
   "outputs": [
    {
     "name": "stdout",
     "output_type": "stream",
     "text": [
      "valet\n",
      "ebai\n",
      "unsubscrib\n",
      "spam\n",
      "httpaddr\n"
     ]
    }
   ],
   "source": [
    "indicatives = np.argsort(state['phi_yeq1']/state['phi_yeq0'])[-5:]\n",
    "for indicative in indicatives:\n",
    "    print(tokenlist[indicative])"
   ]
  },
  {
   "cell_type": "markdown",
   "metadata": {},
   "source": [
    "## Question 6. (c)"
   ]
  },
  {
   "cell_type": "code",
   "execution_count": 3,
   "metadata": {},
   "outputs": [
    {
     "name": "stdout",
     "output_type": "stream",
     "text": [
      "Error: 0.0387\n",
      "Error: 0.0288\n",
      "Error: 0.0288\n",
      "Error: 0.0200\n",
      "Error: 0.0163\n",
      "Error: 0.0163\n"
     ]
    }
   ],
   "source": [
    "nb_errors = []\n",
    "data_suffies = [50, 100, 200, 400, 800, 1400]\n",
    "for suffix in data_suffies:\n",
    "    trainMatrix, tokenlist, trainCategory = readMatrix('spam_data/MATRIX.TRAIN.', str(suffix))\n",
    "    state = nb_train(trainMatrix, trainCategory)\n",
    "    output = nb_test(testMatrix, state)\n",
    "    nb_errors.append(evaluate(output, testCategory))"
   ]
  },
  {
   "cell_type": "code",
   "execution_count": 4,
   "metadata": {},
   "outputs": [
    {
     "data": {
      "text/plain": [
       "[<matplotlib.lines.Line2D at 0x7f9459e2e6d8>]"
      ]
     },
     "execution_count": 4,
     "metadata": {},
     "output_type": "execute_result"
    },
    {
     "data": {
      "image/png": "[encoded data removed]",
      "text/plain": [
       "<Figure size 432x288 with 1 Axes>"
      ]
     },
     "metadata": {
      "needs_background": "light"
     },
     "output_type": "display_data"
    }
   ],
   "source": [
    "plt.plot(data_suffies, nb_errors)"
   ]
  },
  {
   "cell_type": "markdown",
   "metadata": {},
   "source": [
    "## Question 6. (d)"
   ]
  },
  {
   "cell_type": "code",
   "execution_count": 5,
   "metadata": {},
   "outputs": [
    {
     "name": "stdout",
     "output_type": "stream",
     "text": [
      "Error: 0.0275\n",
      "Error: 0.0175\n",
      "Error: 0.0025\n",
      "Error: 0.0013\n",
      "Error: 0.0000\n",
      "Error: 0.0000\n"
     ]
    }
   ],
   "source": [
    "import spam_data.svm as svm\n",
    "\n",
    "testMatrix, tokenlist, testCategory = svm.readMatrix('spam_data/MATRIX.TEST')\n",
    "svm_errors = []\n",
    "for suffix in data_suffies:\n",
    "    trainMatrix, tokenlist, trainCategory = svm.readMatrix('spam_data/MATRIX.TRAIN.', str(suffix))\n",
    "    state = svm.svm_train(trainMatrix, trainCategory)\n",
    "    output = svm.svm_test(testMatrix, state)\n",
    "    svm_errors.append(evaluate(output, testCategory))"
   ]
  },
  {
   "cell_type": "code",
   "execution_count": 6,
   "metadata": {},
   "outputs": [
    {
     "data": {
      "text/plain": [
       "<matplotlib.legend.Legend at 0x7f945650c160>"
      ]
     },
     "execution_count": 6,
     "metadata": {},
     "output_type": "execute_result"
    },
    {
     "data": {
      "image/png": "[encoded data removed]",
      "text/plain": [
       "<Figure size 432x288 with 1 Axes>"
      ]
     },
     "metadata": {
      "needs_background": "light"
     },
     "output_type": "display_data"
    }
   ],
   "source": [
    "plt.plot(data_suffies, nb_errors)\n",
    "plt.plot(data_suffies, svm_errors)\n",
    "plt.legend(['NB', 'SVM'])"
   ]
  },
  {
   "cell_type": "markdown",
   "metadata": {},
   "source": [
    "SVM is better than NB in different case of training set's size."
   ]
  }
 ],
 "metadata": {
  "kernelspec": {
   "display_name": "Python 3.6",
   "language": "python",
   "name": "py36"
  },
  "language_info": {
   "codemirror_mode": {
    "name": "ipython",
    "version": 3
   },
   "file_extension": ".py",
   "mimetype": "text/x-python",
   "name": "python",
   "nbconvert_exporter": "python",
   "pygments_lexer": "ipython3",
   "version": "3.6.9"
  }
 },
 "nbformat": 4,
 "nbformat_minor": 2
}
