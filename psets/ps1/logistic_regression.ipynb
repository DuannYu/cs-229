{
 "cells": [
  {
   "cell_type": "code",
   "execution_count": 106,
   "metadata": {},
   "outputs": [],
   "source": [
    "import math\n",
    "import numpy as np\n",
    "import matplotlib.pyplot as plt"
   ]
  },
  {
   "cell_type": "code",
   "execution_count": 107,
   "metadata": {},
   "outputs": [],
   "source": [
    "# load data\n",
    "\n",
    "# x: 3x99\n",
    "x = np.loadtxt('logistic_x.txt')\n",
    "x = x.T\n",
    "x = np.vstack((np.ones((1, x.shape[1])), x))\n",
    "\n",
    "# y: 99\n",
    "y = np.loadtxt('logistic_y.txt')\n",
    "\n",
    "# # init\n",
    "m = x.shape[1]\n",
    "theta = np.zeros(x.shape[0]) # theta  3x1\n",
    "hessian = np.zeros((x.shape[0], x.shape[0]))\n",
    "\n",
    "z = y * np.dot(theta.T, x)"
   ]
  },
  {
   "cell_type": "code",
   "execution_count": 48,
   "metadata": {},
   "outputs": [],
   "source": [
    "def g(x):\n",
    "    return 1 / (1 + np.exp(-x))"
   ]
  },
  {
   "cell_type": "code",
   "execution_count": 127,
   "metadata": {},
   "outputs": [
    {
     "name": "stdout",
     "output_type": "stream",
     "text": [
      "1\n"
     ]
    }
   ],
   "source": [
    "error = 1e9\n",
    "iteration = 0\n",
    "while error > 1e-9:\n",
    "    z = y * np.dot(theta.T, x)\n",
    "    delta_theta = np.mean((g(z) - 1) * y * x, axis=1)\n",
    "    \n",
    "    for i in range(hessian.shape[0]):\n",
    "        for j in range(hessian.shape[1]):\n",
    "            hessian[i, j] = np.mean(g(z) * (1 - g(z)) * x[i,:] * x[j,:])\n",
    "    \n",
    "    old_theta = theta.copy()\n",
    "    theta -= np.linalg.inv(hessian).dot(delta_theta)\n",
    "    error = np.sum(np.abs(theta - old_theta))\n",
    "    iteration += 1\n",
    "print(iteration)"
   ]
  },
  {
   "cell_type": "code",
   "execution_count": 130,
   "metadata": {},
   "outputs": [
    {
     "data": {
      "text/plain": [
       "[<matplotlib.lines.Line2D at 0x7fdb1e31aeb8>]"
      ]
     },
     "execution_count": 130,
     "metadata": {},
     "output_type": "execute_result"
    },
    {
     "data": {
      "image/png": "[encoded data removed]",
      "text/plain": [
       "<Figure size 432x288 with 1 Axes>"
      ]
     },
     "metadata": {
      "needs_background": "light"
     },
     "output_type": "display_data"
    }
   ],
   "source": [
    "plt.scatter(x[1, np.where(y==1)], x[2, np.where(y==1)], color='red')\n",
    "plt.scatter(x[1, np.where(y==-1)], x[2, np.where(y==-1)], color='blue')\n",
    "\n",
    "_xs = np.array([np.min(x[1,:]), np.max(x[1,:])])\n",
    "_ys = (theta[0] + theta[1] * _xs) / (- theta[2])\n",
    "plt.plot(_xs, _ys, lw=0.5)\n",
    "# plt.legend(bbox_to_anchor=(1.04,1), loc=\"upper left\")"
   ]
  },
  {
   "cell_type": "code",
   "execution_count": 125,
   "metadata": {},
   "outputs": [
    {
     "data": {
      "text/plain": [
       "(3, 99)"
      ]
     },
     "execution_count": 125,
     "metadata": {},
     "output_type": "execute_result"
    }
   ],
   "source": [
    "(y * x).shape"
   ]
  },
  {
   "cell_type": "code",
   "execution_count": 124,
   "metadata": {},
   "outputs": [
    {
     "data": {
      "text/plain": [
       "(3,)"
      ]
     },
     "execution_count": 124,
     "metadata": {},
     "output_type": "execute_result"
    }
   ],
   "source": []
  },
  {
   "cell_type": "code",
   "execution_count": null,
   "metadata": {},
   "outputs": [],
   "source": []
  },
  {
   "cell_type": "code",
   "execution_count": null,
   "metadata": {},
   "outputs": [],
   "source": []
  }
 ],
 "metadata": {
  "kernelspec": {
   "display_name": "Python 3.6",
   "language": "python",
   "name": "py36"
  },
  "language_info": {
   "codemirror_mode": {
    "name": "ipython",
    "version": 3
   },
   "file_extension": ".py",
   "mimetype": "text/x-python",
   "name": "python",
   "nbconvert_exporter": "python",
   "pygments_lexer": "ipython3",
   "version": "3.6.9"
  }
 },
 "nbformat": 4,
 "nbformat_minor": 2
}
